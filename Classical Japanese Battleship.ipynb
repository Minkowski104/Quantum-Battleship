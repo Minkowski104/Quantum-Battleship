{
 "cells": [
  {
   "cell_type": "code",
   "execution_count": 5,
   "metadata": {},
   "outputs": [],
   "source": [
    "from qiskit import *\n",
    "import math"
   ]
  },
  {
   "cell_type": "code",
   "execution_count": 13,
   "metadata": {},
   "outputs": [],
   "source": [
    "player1= [[0 for x in range(10)] for y in range(10)]\n",
    "player2 =[[0 for x in range(10)] for y in range(10)]"
   ]
  },
  {
   "cell_type": "code",
   "execution_count": 20,
   "metadata": {},
   "outputs": [
    {
     "name": "stdout",
     "output_type": "stream",
     "text": [
      "Where do you want to place your ship 12,4\n",
      "Where do you want to place your ship 23,6\n",
      "Where do you want to place your ship 34,7\n"
     ]
    }
   ],
   "source": [
    "x1,y1=input(\"Where do you want to place your ship 1\").split(\",\")\n",
    "x1=int(x1)\n",
    "y1=int(y1)\n",
    "player1[x1][y1]=1\n",
    "x1,y1=input(\"Where do you want to place your ship 2\").split(\",\")\n",
    "x1=int(x1)\n",
    "y1=int(y1)\n",
    "player1[x1][y1]=2\n",
    "x1,y1=input(\"Where do you want to place your ship 3\").split(\",\")\n",
    "x1=int(x1)\n",
    "y1=int(y1)\n",
    "player1[x1][y1]=3"
   ]
  },
  {
   "cell_type": "code",
   "execution_count": 21,
   "metadata": {},
   "outputs": [
    {
     "name": "stdout",
     "output_type": "stream",
     "text": [
      "Player 2 !Where do you want to place your ship 12,4\n",
      "Player 2,Where do you want to place your ship 25,3\n",
      "Player 2,Where do you want to place your ship 35,4\n"
     ]
    }
   ],
   "source": [
    "x1,y1=input(\"Player 2 !Where do you want to place your ship 1\").split(\",\")\n",
    "x1=int(x1)\n",
    "y1=int(y1)\n",
    "player2[x1][y1]=1\n",
    "x1,y1=input(\"Player 2,Where do you want to place your ship 2\").split(\",\")\n",
    "x1=int(x1)\n",
    "y1=int(y1)\n",
    "player2[x1][y1]=2\n",
    "x1,y1=input(\"Player 2,Where do you want to place your ship 3\").split(\",\")\n",
    "x1=int(x1)\n",
    "y1=int(y1)\n",
    "player2[x1][y1]=3"
   ]
  },
  {
   "cell_type": "code",
   "execution_count": 22,
   "metadata": {},
   "outputs": [
    {
     "name": "stdout",
     "output_type": "stream",
     "text": [
      "STart the game \n",
      "\n"
     ]
    }
   ],
   "source": [
    "print(\"STart the game \\n\")\n",
    "gameOver=False"
   ]
  },
  {
   "cell_type": "code",
   "execution_count": 23,
   "metadata": {},
   "outputs": [],
   "source": [
    "playerattack1= [[0 for x in range(10)] for y in range(10)]\n",
    "playerattack2 =[[0 for x in range(10)] for y in range(10)]\n",
    "player1score=0\n",
    "player2score=0"
   ]
  },
  {
   "cell_type": "code",
   "execution_count": 38,
   "metadata": {},
   "outputs": [
    {
     "name": "stdout",
     "output_type": "stream",
     "text": [
      "Winner = Player 2\n"
     ]
    }
   ],
   "source": [
    "while(gameOver is not True):\n",
    "    print(\"Player 1 Turn:\\n\")\n",
    "    for row in playerattack1:\n",
    "        print(row)\n",
    "    while True:\n",
    "        x1,y1=input(\"Player 1 !Where do you want to blast \").split(\",\")\n",
    "        x1=int(x1)\n",
    "        y1=int(y1)\n",
    "        if(player2[x1][y1] != -1):\n",
    "            break\n",
    "        else:\n",
    "            print(\"Already annihilated completely\")\n",
    "            \n",
    "    if(player2[x1][y1]==0):\n",
    "        playerattack1[x1][y1]='-'\n",
    "        player2[x1][y1]=-1\n",
    "        print(\"\\nMissed\\n\")\n",
    "    elif(player2[x1][y1]==1):\n",
    "        playerattack1[x1][y1]='x'\n",
    "        player2[x1][y1]=-1\n",
    "        player1score+=1\n",
    "        print(\"\\nComplete Damage\\n\")\n",
    "    else:\n",
    "        playerattack1[x1][y1]='*'\n",
    "        player2[x1][x2]-=1\n",
    "        player1score+=1\n",
    "        print(\"Successful hit\")\n",
    "    if (player1score==6):\n",
    "        gameOver = True\n",
    "        winner = 1\n",
    "\n",
    "    print(\"Player 2 Turn:\\n\")\n",
    "    for row in playerattack2:\n",
    "        print(row)\n",
    "    while True:\n",
    "        x1,y1=input(\"Player 2 !Where do you want to blast \").split(\",\")\n",
    "        x1=int(x1)\n",
    "        y1=int(y1)\n",
    "        if(player1[x1][y1] != -1):\n",
    "            break\n",
    "        else:\n",
    "            print(\"Already annihilated completely\")\n",
    "            \n",
    "    if(player1[x1][y1]==0):\n",
    "        playerattack2[x1][y1]='-'\n",
    "        player1[x1][y1]=-1\n",
    "        print(\"\\nMissed\\n\")\n",
    "    elif(player1[x1][y1]==1):\n",
    "        playerattack2[x1][y1]='x'\n",
    "        player1[x1][y1]=-1\n",
    "        player2score+=1\n",
    "        print(\"\\nComplete Damage\\n\")\n",
    "    else:\n",
    "        playerattack2[x1][y1]='*'\n",
    "        player1[x1][y1]-=1\n",
    "        player2score+=1\n",
    "        print(\"Successful hit\")\n",
    "    if player2score==6:\n",
    "        gameOver = True\n",
    "        winner = 2\n",
    "print(\"Winner = Player \"+ str(winner))"
   ]
  },
  {
   "cell_type": "code",
   "execution_count": null,
   "metadata": {},
   "outputs": [],
   "source": []
  },
  {
   "cell_type": "code",
   "execution_count": null,
   "metadata": {},
   "outputs": [],
   "source": []
  }
 ],
 "metadata": {
  "kernelspec": {
   "display_name": "Python 3 (ipykernel)",
   "language": "python",
   "name": "python3"
  },
  "language_info": {
   "codemirror_mode": {
    "name": "ipython",
    "version": 3
   },
   "file_extension": ".py",
   "mimetype": "text/x-python",
   "name": "python",
   "nbconvert_exporter": "python",
   "pygments_lexer": "ipython3",
   "version": "3.9.7"
  }
 },
 "nbformat": 4,
 "nbformat_minor": 4
}
